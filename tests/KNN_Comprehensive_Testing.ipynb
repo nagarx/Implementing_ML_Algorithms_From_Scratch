{
 "cells": [
  {
   "cell_type": "markdown",
   "id": "3a24487f",
   "metadata": {},
   "source": [
    "# Comprehensive Testing of K-Nearest Neighbors (K-NN) Algorithm"
   ]
  },
  {
   "cell_type": "markdown",
   "id": "1f8fa126",
   "metadata": {},
   "source": [
    "## Importing the Model and Required Libraries"
   ]
  },
  {
   "cell_type": "code",
   "execution_count": 6,
   "outputs": [],
   "source": [
    "# Import the K-NN model\n",
    "from knn_from_scratch import KNN\n",
    "import numpy as np\n",
    "from sklearn.datasets import make_classification\n",
    "from sklearn.model_selection import train_test_split\n",
    "from sklearn.metrics import accuracy_score, precision_score, recall_score, f1_score"
   ],
   "metadata": {
    "collapsed": false,
    "ExecuteTime": {
     "end_time": "2023-09-19T01:55:50.233801Z",
     "start_time": "2023-09-19T01:55:50.228712Z"
    }
   },
   "id": "1f7940348e34e236"
  },
  {
   "cell_type": "markdown",
   "id": "78152484",
   "metadata": {},
   "source": [
    "## Generating the Synthetic Dataset"
   ]
  },
  {
   "cell_type": "code",
   "execution_count": 7,
   "outputs": [],
   "source": [
    "# Generate synthetic dataset\n",
    "X, y = make_classification(n_samples=1000, n_features=20, n_informative=15,\n",
    "                           n_redundant=5, n_classes=3, random_state=42)"
   ],
   "metadata": {
    "collapsed": false,
    "ExecuteTime": {
     "end_time": "2023-09-19T01:55:50.253901Z",
     "start_time": "2023-09-19T01:55:50.243207Z"
    }
   },
   "id": "72b6ed08ac0b7454"
  },
  {
   "cell_type": "markdown",
   "id": "57611087",
   "metadata": {},
   "source": [
    "## Fitting the Model and Making Predictions"
   ]
  },
  {
   "cell_type": "code",
   "execution_count": 8,
   "outputs": [],
   "source": [
    "# Split the dataset into training and testing sets\n",
    "X_train, X_test, y_train, y_test = train_test_split(X, y, test_size=0.2, random_state=42)\n",
    "\n",
    "# Instantiate and fit the model\n",
    "knn = KNN(k=5)\n",
    "knn.fit(X_train, y_train)"
   ],
   "metadata": {
    "collapsed": false,
    "ExecuteTime": {
     "end_time": "2023-09-19T01:55:50.260227Z",
     "start_time": "2023-09-19T01:55:50.256288Z"
    }
   },
   "id": "e570c0fc677a214d"
  },
  {
   "cell_type": "markdown",
   "id": "07c06523",
   "metadata": {},
   "source": [
    "## Evaluating the Model"
   ]
  },
  {
   "cell_type": "code",
   "execution_count": 9,
   "id": "9a5ca793",
   "metadata": {
    "ExecuteTime": {
     "end_time": "2023-09-19T01:55:51.299170Z",
     "start_time": "2023-09-19T01:55:50.316204Z"
    }
   },
   "outputs": [
    {
     "data": {
      "text/plain": "(0.82, 0.8204201834442691, 0.8181904533022052, 0.816095669496279)"
     },
     "execution_count": 9,
     "metadata": {},
     "output_type": "execute_result"
    }
   ],
   "source": [
    "# Make predictions\n",
    "predictions = knn.predict(X_test)\n",
    "\n",
    "# Calculate metrics\n",
    "accuracy = accuracy_score(y_test, predictions)\n",
    "precision = precision_score(y_test, predictions, average='macro')\n",
    "recall = recall_score(y_test, predictions, average='macro')\n",
    "f1 = f1_score(y_test, predictions, average='macro')\n",
    "\n",
    "accuracy, precision, recall, f1    "
   ]
  }
 ],
 "metadata": {
  "kernelspec": {
   "name": "python3",
   "language": "python",
   "display_name": "Python 3 (ipykernel)"
  }
 },
 "nbformat": 4,
 "nbformat_minor": 5
}
