{
 "cells": [
  {
   "cell_type": "markdown",
   "source": [
    "# 1. Introduction and Motivation:\n",
    "Linear regression is one of the foundational algorithms in machine learning and statistics. It aims to model the relationship between a dependent variable and one or more independent variables. The primary goal is to find the best fit straight line that accurately predict the output values within a range. In this notebook, we'll demonstrate the use of a custom-built linear regression model on the Boston Housing dataset, predicting house prices based on various features."
   ],
   "metadata": {
    "collapsed": false
   }
  },
  {
   "cell_type": "markdown",
   "source": [
    "# 2. Imports:"
   ],
   "metadata": {
    "collapsed": false
   }
  },
  {
   "cell_type": "code",
   "execution_count": 2,
   "outputs": [
    {
     "ename": "ModuleNotFoundError",
     "evalue": "No module named 'models'",
     "output_type": "error",
     "traceback": [
      "\u001B[0;31m---------------------------------------------------------------------------\u001B[0m",
      "\u001B[0;31mModuleNotFoundError\u001B[0m                       Traceback (most recent call last)",
      "\u001B[0;32m/var/folders/7v/7g8_sskn48n6dzflf0zmvct00000gn/T/ipykernel_93668/4268136354.py\u001B[0m in \u001B[0;36m<module>\u001B[0;34m\u001B[0m\n\u001B[1;32m      5\u001B[0m \u001B[0;32mfrom\u001B[0m \u001B[0msklearn\u001B[0m\u001B[0;34m.\u001B[0m\u001B[0mdatasets\u001B[0m \u001B[0;32mimport\u001B[0m \u001B[0mload_boston\u001B[0m\u001B[0;34m\u001B[0m\u001B[0;34m\u001B[0m\u001B[0m\n\u001B[1;32m      6\u001B[0m \u001B[0;32mfrom\u001B[0m \u001B[0msklearn\u001B[0m\u001B[0;34m.\u001B[0m\u001B[0mmodel_selection\u001B[0m \u001B[0;32mimport\u001B[0m \u001B[0mtrain_test_split\u001B[0m\u001B[0;34m\u001B[0m\u001B[0;34m\u001B[0m\u001B[0m\n\u001B[0;32m----> 7\u001B[0;31m \u001B[0;32mfrom\u001B[0m \u001B[0mmodels\u001B[0m\u001B[0;34m.\u001B[0m\u001B[0mregression\u001B[0m \u001B[0;32mimport\u001B[0m \u001B[0mLinearRegression\u001B[0m  \u001B[0;31m# Adjust the import path based on your repo structure\u001B[0m\u001B[0;34m\u001B[0m\u001B[0;34m\u001B[0m\u001B[0m\n\u001B[0m",
      "\u001B[0;31mModuleNotFoundError\u001B[0m: No module named 'models'"
     ]
    }
   ],
   "source": [
    "# Necessary imports\n",
    "import numpy as np\n",
    "import pandas as pd\n",
    "import matplotlib.pyplot as plt\n",
    "from sklearn.datasets import load_boston\n",
    "from sklearn.model_selection import train_test_split\n",
    "from models.regression import LinearRegression  # Adjust the import path based on your repo structure"
   ],
   "metadata": {
    "collapsed": false,
    "ExecuteTime": {
     "end_time": "2023-09-11T20:03:50.339299Z",
     "start_time": "2023-09-11T20:03:46.327225Z"
    }
   }
  },
  {
   "cell_type": "markdown",
   "source": [
    "# 3. Load Dataset:"
   ],
   "metadata": {
    "collapsed": false
   }
  },
  {
   "cell_type": "code",
   "execution_count": null,
   "outputs": [],
   "source": [
    "# Load the Boston Housing dataset\n",
    "boston_data = load_boston()\n",
    "df = pd.DataFrame(boston_data.data, columns=boston_data.feature_names)\n",
    "df['PRICE'] = boston_data.target"
   ],
   "metadata": {
    "collapsed": false
   }
  },
  {
   "cell_type": "markdown",
   "source": [
    "# 4. Data Exploration:"
   ],
   "metadata": {
    "collapsed": false
   }
  },
  {
   "cell_type": "code",
   "execution_count": null,
   "outputs": [],
   "source": [
    "# Display the first few rows of the dataset\n",
    "df.head()\n",
    "\n",
    "# Provide basic statistics about the dataset\n",
    "df.describe()\n",
    "\n",
    "# Visualization: Plotting some features against the PRICE to see their linear relationship\n",
    "plt.figure(figsize=(20, 5))\n",
    "\n",
    "features = ['RM', 'CRIM', 'LSTAT']\n",
    "target = df['PRICE']\n",
    "\n",
    "for i, col in enumerate(features):\n",
    "    plt.subplot(1, len(features), i+1)\n",
    "    plt.scatter(df[col], target)\n",
    "    plt.title(col)\n",
    "    plt.xlabel(col)\n",
    "    plt.ylabel('PRICE')"
   ],
   "metadata": {
    "collapsed": false
   }
  },
  {
   "cell_type": "markdown",
   "source": [
    "# 5. Model Demonstration:"
   ],
   "metadata": {
    "collapsed": false
   }
  },
  {
   "cell_type": "code",
   "execution_count": null,
   "outputs": [],
   "source": [
    "# Splitting the dataset into training and test sets\n",
    "X = df.drop('PRICE', axis=1)\n",
    "y = df['PRICE']\n",
    "X_train, X_test, y_train, y_test = train_test_split(X, y, test_size=0.2, random_state=5)\n",
    "\n",
    "# Initialize the LinearRegression class\n",
    "model = LinearRegression()\n",
    "\n",
    "# Train the model using the training data\n",
    "model.fit(X_train.values, y_train.values)\n",
    "\n",
    "# Make predictions on the test data\n",
    "y_pred = model.predict(X_test.values)\n",
    "\n",
    "# Evaluate the model's performance\n",
    "r2 = model.score(X_test.values, y_test.values)\n",
    "metrics = model.metrics(X_test.values, y_test.values)\n",
    "\n",
    "print(f\"R^2 Score: {r2}\")\n",
    "print(f\"Mean Absolute Error (MAE): {metrics['MAE']}\")\n",
    "print(f\"Mean Squared Error (MSE): {metrics['MSE']}\")\n",
    "print(f\"Root Mean Squared Error (RMSE): {metrics['RMSE']}\")"
   ],
   "metadata": {
    "collapsed": false
   }
  },
  {
   "cell_type": "markdown",
   "source": [
    "# 6. Conclusion:"
   ],
   "metadata": {
    "collapsed": false
   }
  },
  {
   "cell_type": "markdown",
   "source": [
    "The linear regression model provides a simple yet effective method to understand relationships between variables and make predictions. In this demonstration, we used the Boston Housing dataset and our custom linear regression implementation to predict house prices. The model showed a $R^2$ score of XXX (replace with your actual score), indicating YYY\\% of the variance in house prices can be explained by our model."
   ],
   "metadata": {
    "collapsed": false
   }
  },
  {
   "cell_type": "code",
   "execution_count": null,
   "outputs": [],
   "source": [],
   "metadata": {
    "collapsed": false
   }
  }
 ],
 "metadata": {
  "kernelspec": {
   "display_name": "Python 3",
   "language": "python",
   "name": "python3"
  },
  "language_info": {
   "name": "python",
   "version": "3.8.3",
   "mimetype": "text/x-python",
   "codemirror_mode": {
    "name": "ipython",
    "version": 3
   },
   "pygments_lexer": "ipython3",
   "nbconvert_exporter": "python",
   "file_extension": ".py"
  }
 },
 "nbformat": 4,
 "nbformat_minor": 5
}
